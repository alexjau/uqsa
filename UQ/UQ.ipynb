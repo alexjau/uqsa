{
 "cells": [
  {
   "cell_type": "markdown",
   "id": "2a0c6174",
   "metadata": {},
   "source": [
    "# Uncertainty quantification "
   ]
  },
  {
   "cell_type": "markdown",
   "id": "4e170c2f",
   "metadata": {},
   "source": [
    "In this notebook, we exemplify an uncertainty quantification (UQ) method as outlined in the paper \"Uncertainty quantification, propagation and characterization by Bayesian analysis combined with global sensitivity analysis applied to\n",
    "dynamical intracellular pathway models\" by Eriksson and Jauhiainen et al. \n",
    "\n",
    "The purpose of inverse uncertainty quantification is to estimate unknown parameters of a model from observed data, and at the same time quantify the uncertainty in these parameter estimates. We do this in a Bayesian framework by characterizing\n",
    "the posterior distribution of the parameters via Approxiamte Bayesian Computation (ABC) coupled to Markov chain Monte Carlo (MCMC). \n"
   ]
  },
  {
   "cell_type": "markdown",
   "id": "075c43da",
   "metadata": {},
   "source": [
    "## Prerequisites\n",
    "\n",
    "In order to run this notebook, you need to have an R kernel installed, and the following packages installed within your R distribution: ggplot2, gridExtra, repr, ks, VineCopula, MASS, R.utils, reshape2. "
   ]
  },
  {
   "cell_type": "code",
   "execution_count": 1,
   "id": "94225d56",
   "metadata": {},
   "outputs": [],
   "source": [
    "oldw <- getOption(\"warn\")\n",
    "options(warn = -1) # to temporarily suppress warnings\n",
    "\n",
    "library(ggplot2)\n",
    "library(gridExtra)\n",
    "library(repr)\n",
    "library(ks)\n",
    "library(VineCopula)\n",
    "library(MASS)\n",
    "suppressMessages(\n",
    "    library(R.utils))\n",
    "library(reshape2)\n",
    "\n",
    "options(warn = oldw)"
   ]
  },
  {
   "cell_type": "markdown",
   "id": "20c6a0cd",
   "metadata": {},
   "source": [
    "## The model"
   ]
  },
  {
   "cell_type": "markdown",
   "id": "c76f0af9",
   "metadata": {},
   "source": [
    "We exemplify the approach by applying it to a relatively large model relevant for synaptic plasticity. The model exemplifies in a simplified way a molecular mechanism important for the strengthening (long term potentiation, LTP) or weakening (long term\n",
    "depression, LTD) of neuronal synapses (Nair et al., 2014). The modification\n",
    "of synapses through the process of LTP or LTD is here effectuated by the balance due to the interaction between calcium (Ca), calmodulin (CaM), which contains four Ca-binding domains, protein phosphatase 2B (PP2B, also known as Calcineurin), Ca/CaM-dependent protein kinase II (CaMKII) and protein phosphatase 1 (PP1). \n",
    "\n",
    "\n",
    "<img src=\"Images/model.png\" width=360/>"
   ]
  },
  {
   "cell_type": "markdown",
   "id": "eb39e806",
   "metadata": {},
   "source": [
    "The model is described by the nonlinear system:\n",
    "\n",
    "\\begin{alignat}{3} \n",
    "&\\dot{\\mathbf{x}}(t) &&= f(\\mathbf{x}(t), \\mathbf{u}(t), \\mathbf{p}) \\nonumber \\\\\n",
    "&\\mathbf{x}(t_0) &&=\\mathbf{x_0} \\label{eq:model}\\\\\n",
    "&\\mathbf{y}(t) &&= g(\\mathbf{x}(t),\\mathbf{s}) \\nonumber\n",
    "\\end{alignat}\n",
    "\n",
    "where $\\mathbf{x}(t)$ corresponds to internal state variables, $\\mathbf{u}(t)$ to external input, $\\mathbf{y}(t)$ are the outputs, $\\mathbf{p}$ are system parameters, and $\\mathbf{s}$ are parameters for the readouts, like scaling factors. It can be noted that the parameters $\\mathbf{\\theta}=(\\mathbf{p}, \\mathbf{s})$ together with the initial conditions $\\mathbf{x}(t_0)$ and the input $\\mathbf{u}(t)$ fully specify the output from the system."
   ]
  },
  {
   "cell_type": "markdown",
   "id": "763c8d7d",
   "metadata": {},
   "source": [
    "## Experimental data"
   ]
  },
  {
   "cell_type": "markdown",
   "id": "7c881fa5",
   "metadata": {},
   "source": [
    "When experimental data are available corresponding to all or a subset of the system outputs, we denote these data $\\mathbf{y}^\\text{exp}_u$, where the index $u$ indicates a specific input vector. \n",
    "\n",
    "We use three datasets to illustrate the UQ methodology. The data correspond to different experimental setups describing different, experimentally engineered, phenotypes of the system. The phenotypes correspond to a subpart of the system, and in the model, the experimental phenotypes are recreated by applying different model inputs $u$. The experimental data were collected from a number of publications as described in Nair et al., 2014.\n",
    "\n",
    "The three datasets corresponding to different model pehenotypes can be loaded and plotted as follows."
   ]
  },
  {
   "cell_type": "code",
   "execution_count": 2,
   "id": "1a8f5ffb",
   "metadata": {},
   "outputs": [
    {
     "data": {
      "image/png": "[encoded data removed]",
      "text/plain": [
       "plot without title"
      ]
     },
     "metadata": {
      "image/png": {
       "height": 240,
       "width": 600
      }
     },
     "output_type": "display_data"
    }
   ],
   "source": [
    "options(repr.plot.width=10, repr.plot.height=4)\n",
    "source('loadTargets.R') # functions to load experimental data\n",
    "\n",
    "# load targets\n",
    "out <- loadTargets()\n",
    "xtarget <- out$xtarget\n",
    "ytarget <- out$ytarget\n",
    "rm(out)\n",
    "\n",
    "# set plot labels\n",
    "xlabs <- c(\"log[Ca] (nM)\", \"log[apoCaM] (nM)\", \"log[Ca] (nM)\")\n",
    "ylabs <- c(\"mol Ca/mol CaM\", \"mol apoCaM/mol PP2B\", \"% Activation of PP2B\")\n",
    "\n",
    "# plot\n",
    "p1 <- qplot(xtarget[[1]], ytarget[[1]], xlab=xlabs[1], ylab=ylabs[1], ylim=c(0,4.2), xlim=c(1,6), main=\"Phenotype 1\")\n",
    "p2 <- qplot(xtarget[[2]], ytarget[[2]], xlab=xlabs[2], ylab=ylabs[2], ylim=c(0,1), xlim=c(0,7), main=\"Phenotype 2\")\n",
    "p3 <- qplot(xtarget[[3]], ytarget[[3]], xlab=xlabs[3], ylab=ylabs[3], ylim=c(0,100), xlim=c(2,4), main=\"Phenotype 3\")\n",
    "\n",
    "grid.arrange(p1, p2, p3, nrow = 1)\n"
   ]
  },
  {
   "cell_type": "markdown",
   "id": "b2cf75c2",
   "metadata": {},
   "source": [
    "## Simulating from the model"
   ]
  },
  {
   "cell_type": "markdown",
   "id": "cf80ee0f",
   "metadata": {},
   "source": [
    "The different phenotypes correspond to situations either very close to steady state or with slow dynamics. We have utilized this by performing steady state reduction to the model in order to speed up calculations, resulting in analytical steady state solutions for subparts of the model. \n",
    "\n",
    "The code below expemplifies how to simulate outputs from the model for different pehnotypes. We define default parameters for the model for all tunable parameters, although for the experimental datasets used in this setting, only a subset of the parameters are relevant (i.e. affect the outputs of interest), which we index with a vector.  \n",
    "\n",
    "We refer to the simulated model outputs for a specific input vector $u$ as $\\mathbf{y}_u^{sim}$."
   ]
  },
  {
   "cell_type": "code",
   "execution_count": 11,
   "id": "915f0c6a",
   "metadata": {},
   "outputs": [
    {
     "data": {
      "image/png": "[encoded data removed]",
      "text/plain": [
       "plot without title"
      ]
     },
     "metadata": {
      "image/png": {
       "height": 240,
       "width": 300
      }
     },
     "output_type": "display_data"
    }
   ],
   "source": [
    "source('runModel.R')\n",
    "source('SSsolutions.R')\n",
    "options(repr.plot.width=5, repr.plot.height=4)\n",
    "\n",
    "# default parameters and values from model\n",
    "parVal <- c(0.0021524, 0.0088968, 0.028311, 0.041046, 0.046, 0.046, 0.046, \n",
    "            0.046, 0.046, 0.0016667, 0.016667, 0.008125, 0.092857, 15836, \n",
    "            22959, 1124, 4646, 0.028, 70, 800, 60, 600, 0.021, 0.04, 0.02, \n",
    "            0.002, 0.0044, 0.021, 0.021, 0.021, 0.021, 52, 2000, 4000, 5000, \n",
    "            2272.7, 0.04, 0.011, 0.011, 0.011, 0.011, 0.02, 0.002, 0.011, \n",
    "            0.0044, 2000, 4000, 5000, 2272.7, 0.73, 50, 0.05, 10, 10)\n",
    "\n",
    "parNames <- c(\"kf*CaM*Ca\", \"kf*CaM_Ca1*Ca\", \"kf*CaM_Ca2*Ca\", \"kf*CaM_Ca3*Ca\", \n",
    "              \"kf*CaM*PP2B\", \"kf*CaM_Ca1*PP2B\", \"kf*CaM_Ca2*PP2B\", \"kf*CaM_Ca3*PP2B\", \n",
    "              \"kf*CaM_Ca4*PP2B\", \"kf*PP2B_CaM*Ca\", \"kf*PP2B_CaM_Ca1*Ca\", \"kf*PP2B_CaM_Ca2*Ca\", \n",
    "              \"kf*PP2B_CaM_Ca3*Ca\", \"KD*CaM_Ca3*Ca\", \"KD*CaM_Ca2*Ca\", \"KD*CaM_Ca1*Ca\", \n",
    "              \"KD*CaM*Ca\", \"KD*CaM_Ca4*PP2B\", \"KD*PP2B_CaM_Ca3*Ca\", \"KD*PP2B_CaM_Ca2*Ca\", \n",
    "              \"KD*PP2B_CaM_Ca1*Ca\", \"KD*PP2B_CaM*Ca\", \"kf*CaM*CaMKII\", \"kf*CaMKII_CaM_Ca3*Ca\", \n",
    "              \"kf*CaMKII_CaM_Ca2*Ca\", \"kf*CaMKII_CaM_Ca1*Ca\", \"kf*CaMKII_CaM*Ca\", \n",
    "              \"kf*CaM_Ca1*CaMKII\", \"kf*CaM_Ca2*CaMKII\", \"kf*CaM_Ca3*CaMKII\", \n",
    "              \"kf*CaM_Ca4*CaMKII\", \"KD*CaM_Ca4*CaMKII\", \"KD*CaMKII_CaM_Ca3*Ca\", \n",
    "              \"KD*CaMKII_CaM_Ca2*Ca\", \"KD*CaMKII_CaM_Ca1*Ca\", \"KD*CaMKII_CaM*Ca\", \n",
    "              \"kf*pCaMKII_Ca3*Ca\", \"kf*CaM*pCaMKIIaut\", \"kf*CaM_Ca1*pCaMKIIaut\", \n",
    "              \"kf*CaM_Ca2*pCaMKIIaut\", \"kf*CaM_Ca3*pCaMKIIaut\", \"kf*pCaMKII_Ca2*Ca\", \n",
    "              \"kf*pCaMKII_Ca1*Ca\", \"kf*CaM_Ca4*pCaMKIIaut\", \"kf*pCaMKII_Ca0*Ca\", \n",
    "              \"KD*pCaMKII_Ca3*Ca\", \"KD*pCaMKII_Ca2*Ca\", \"KD*pCaMKII_Ca1*Ca\", \n",
    "              \"KD*pCaMKII_Ca0*Ca\", \"KD*CaM_Ca4*pCaMKIIaut\", \"kautMax\", \"kf*PP1*pCaMKIIaut\", \n",
    "              \"kr*PP1*pCaMKIIaut\", \"kcat*PP1*pCaMKIIaut\")\n",
    "\n",
    "# parameters relevant for phenotypes 1-3\n",
    "parIdx <- c(14, 15, 16, 17, 18, 19, 20, 21, 22) \n",
    "parNames <- parNames[parIdx]\n",
    "\n",
    "# model input values\n",
    "np <- 26\n",
    "xA <- seq(1,6,length.out = np) # phenotype 1\n",
    "xB <- seq(0,7,length.out = np) # phenotype 2\n",
    "xC <- seq(2,4,length.out = np) # phenotype 3\n",
    "\n",
    "# relevant parameters on log10-scale\n",
    "pars <- log10(parVal[parIdx])\n",
    "\n",
    "out <- runModel(pars, parIdx, 10^xA, \"A\")\n",
    "qplot(out$xx, out$yy, geom=c(\"point\", \"line\"), xlab=xlabs[1], ylab=ylabs[1], ylim=c(0,4.2), xlim=c(1,6), main=\"Phenotype 1 simulation\")\n"
   ]
  },
  {
   "cell_type": "markdown",
   "id": "60f1327b",
   "metadata": {},
   "source": [
    "The default parameter set is just one set of parameters that adequately reproduce the experimental data, without any uncertainty measures to the parameter estimates attached. We are interested in understanding which range of parameters reproduce the experimental data.  \n",
    "\n",
    "We can use the model and the experimental data to perform the calibration and we proceed with defining priors for the parameters of interest. We use the default values of the parameters to define wide uniform priors on the log10-scale. "
   ]
  },
  {
   "cell_type": "code",
   "execution_count": 4,
   "id": "b0b573b6",
   "metadata": {},
   "outputs": [],
   "source": [
    "# scale to determine prior values\n",
    "scale <- 1000\n",
    "\n",
    "# prior\n",
    "ll = parVal[parIdx]/scale\n",
    "ul = parVal[parIdx]*scale\n",
    "ll = log10(ll) # log10-scale\n",
    "ul = log10(ul) # log10-scale"
   ]
  },
  {
   "cell_type": "markdown",
   "id": "2df5f721",
   "metadata": {},
   "source": [
    "## ABC-MCMC with copulas"
   ]
  },
  {
   "cell_type": "markdown",
   "id": "55458ddc",
   "metadata": {},
   "source": [
    "In ABC, samples from a prior distribution (or a proposal distribution) are accepted if the experimental data are reproduced by simulations from the model within a certain margin, so that a distance measure $\\rho(S(\\mathbf{y}^{sim}),S(\\mathbf{y}^\\text{exp}))$ is smaller than some predefined cut-off $\\delta$ (S is a summary statistic of the data). The accepted parameter sets $\\mathbf{\\theta}$ will form the approximate posterior distribution $f(\\mathbf{\\theta}|\\rho(S(\\mathbf{y}^\\text{exp}),S(\\mathbf{y}^{sim}))\\leq\\delta)$. \n",
    "\n",
    "We use a distance measure, or scoring function, that accounts for deviations on both the model output (y-axis) and model input (x-axis) since the experimental data may be subject to experimental error both regarding input and output.  \n",
    "\n",
    "We couple ABC to Markov chain Monte Carlo (MCMC) to efficiently sample from the posterior distribution of the parameters of interest. The model is fitted to the datasets in sequence. In order to incorporate the information from each fit, we do the following:\n",
    "\n",
    "* Fit the model to one datataset, producing a posterior distribution\n",
    "* Fit a copula to the posterior distribution \n",
    "* Use the copula as a prior to fit the model to the next dataset\n",
    "\n",
    "We use graphical models called R-vines to formulate copulas that are constructed in pairs in order to describe the dependencies over multiple parameters. \n",
    "\n"
   ]
  },
  {
   "cell_type": "markdown",
   "id": "db418283",
   "metadata": {},
   "source": [
    "### Copulas\n",
    "\n",
    "Copulas are multivariate probability distributions which describe the dependence structure between stochastic variables. The copula is a function that connects the multivariate distribution function to the marginal ones ($F_i$) as follows.\n",
    "\n",
    "$$\n",
    "F(\\mathbf{x}) = C(F_1(x_1), \\ldots, F_d(x_d))\n",
    "$$ \n",
    "\n",
    "It can be shown that the multivariate (joint) density can be represented by a number of appropriate pair-copulas times the conditional marginal densities based on a pair-copula factorization. For a distribution over three variables, we have\n",
    "\n",
    "$$\n",
    "f(x_1, x_2, x_3) = c_{1,2}(F_1(x_1),F_2(x_2))c_{2,3|1} (F(x_2|x_1), F(x_3|x_1))c_{1,3}(F_1(x_1), F_3(x_3))f_1(x_1) f_3 (x_3) f_2(x_2)\\\\\n",
    "$$\n",
    "\n",
    "The copula pairs can be chosen independently of each other giving a wide range of possible dependence structures. We use graphical models called R-vines to arrange the pair copulas in a tree structure. \n",
    "\n",
    "Let's assume we work with a simple bivariate distribution and that we have a bivariate sample $\\mathbf{x}=[\\mathbf{x}_1, \\mathbf{x}_2]$. For each variable $X_1$ and $X_2$, we estimate a cumulative distribution $P(X_1 \\leq x_1)$ and $P(X_2 \\leq x_2)$ (this can be done in R using e.g. the kcde or ecdf functions). We evaluate these cumulative densities in the sample points $[\\mathbf{x}_1, \\mathbf{x}_2]$ and denote this information $\\mathbf{z}=[\\mathbf{z}_1, \\mathbf{z}_2]$. This step maps the sample points ($\\mathbf{x}$) into the $[0,1]$ space and we fit a copula to $\\mathbf{z}$ in this space.\n",
    "\n",
    "\n"
   ]
  },
  {
   "cell_type": "markdown",
   "id": "0a06af96",
   "metadata": {},
   "source": [
    "### Pre-calibration\n",
    "\n",
    "Each fit to a dataset begins with a pre-calibration step, in order to construct a covariance matrix for the MCMC transition kernel as well as finding starting points for the MCMC chains.\n",
    "\n",
    "In the pre-calibration step we sample independently from the prior distribution a number of times ($npc$) to produce a set of samples. We generate simulated output from the model for each parameter set and check, using the distance measure, how close the simulated outputs $\\mathbf{y}^{sim}$are to the experimental data $\\mathbf{y}^{exp}$. We save a certain fraction $p$ of the samples that have the smallest distances. With these samples, we estimate a covariance matrix that is used as transition kernel Q (scaled appropriately) for the MCMC chains. We also pick random starting points for the chains. \n",
    "\n",
    "In order to perform a streamlined computational pipeline, we always formulate the prior distribution of the parameters in the form of a copula. For the fit to the first dataset, when we have uniform independent priors for all parameters, we use an independece copula, where all copula pairs (i.e. pairs of parameters) are independent. \n",
    "\n",
    "We start of the sequence of fitting the model to the datasets by using phenotype 1. "
   ]
  },
  {
   "cell_type": "code",
   "execution_count": 5,
   "id": "3fad26f8",
   "metadata": {
    "scrolled": false
   },
   "outputs": [
    {
     "name": "stdout",
     "output_type": "stream",
     "text": [
      "Starting run for phenotype 1.\n"
     ]
    }
   ],
   "source": [
    "source('ScoringFunction.R') # load scoring function with the distance measure between experimental and simulated data\n",
    "source('PreCalibration.R')\n",
    "source('copulaFunctions.R')\n",
    "\n",
    "# no of samples\n",
    "npc <- 50000 # pre-calibration\n",
    "ns <- 1000 # no of samples required from each ABC-MCMC chain\n",
    "\n",
    "# settings\n",
    "p <- 0.01 # fraction of samples to keep in the precalibration\n",
    "nChains <- 20 # number of chains to run\n",
    "delta <- 0.1 # ABC acceptable distance \n",
    "\n",
    "set.seed(7619201)\n",
    "cat(\"Starting run for phenotype 1.\\n\")\n",
    "\n",
    "# start with independence copula for phenotype 1\n",
    "out <- makeIndepCopula(ll, ul)\n",
    "copula <- out$copula\n",
    "U <- out$U # selected sample points \n",
    "Z <- out$Z # cumulative density at points in U, used for fitting the copula\n",
    "Y <- out$Y # probability density at points in U, used to assess marginal density\n",
    "\n",
    "# precalibration all at once\n",
    "out1 <- preCalibration(10^xA, parIdx, xtarget[[1]], ytarget[[1]], npc, U, Z, copula, 'A')\n",
    "sfactor <- 0.1 # scaling factor for transition kernel Q\n",
    "out2 <- getMCMCPar(out1$prePar, out1$preDelta, p, sfactor, delta, nChains)\n",
    "Sigma <- out2$Sigma\n",
    "startPar <- out2$startPar\n",
    "\n"
   ]
  },
  {
   "cell_type": "markdown",
   "id": "f094f5b9",
   "metadata": {},
   "source": [
    "### ABC-MCMC\n",
    "\n",
    "Now we are ready to perform sampling with ABC and MCMC for phenotype 1. We input various parameters into the ABCMCMC function below, as commented in the code. "
   ]
  },
  {
   "cell_type": "code",
   "execution_count": 6,
   "id": "81645474",
   "metadata": {},
   "outputs": [
    {
     "name": "stdout",
     "output_type": "stream",
     "text": [
      "Started chain.\n",
      "Finished chain.\n",
      "Started chain.\n",
      "Finished chain.\n"
     ]
    }
   ],
   "source": [
    "source('ABCMCMCFunctions.R')\n",
    "drawsA <- lapply(1:nChains, function(i) ABCMCMC(10^xA, # input u to simulation \n",
    "                                                parIdx, # index for relevant parameters\n",
    "                                                ns, # number of required samples \n",
    "                                                xtarget[[1]], ytarget[[1]], # phenotype 1 experimental data\n",
    "                                                startPar[i,], # starting values for MCMC chain\n",
    "                                                Sigma, # covariance matrix for multivariate normal distribution used as transition kernel in MCMC\n",
    "                                                delta, # ABC acceptable distance \n",
    "                                                U, Z, Y, # sample point, cumulative density, probability density for the prior\n",
    "                                                copula, # R-Vine copula for the prior  \n",
    "                                                'A', ll, ul))\n",
    "                 \n",
    "# put together\n",
    "drawsA <- do.call(\"rbind\", drawsA)\n",
    "pick <- !apply(drawsA, 1, function(rw) all(rw==0))\n",
    "drawsA <- drawsA[pick,]\n",
    "\n"
   ]
  },
  {
   "cell_type": "markdown",
   "id": "46980bcf",
   "metadata": {},
   "source": [
    "We continue and run the ABC-MCMC  for phenotypes 2 and 3. "
   ]
  },
  {
   "cell_type": "code",
   "execution_count": 7,
   "id": "b2bee091",
   "metadata": {},
   "outputs": [
    {
     "name": "stdout",
     "output_type": "stream",
     "text": [
      "Starting run for phenotype 2.\n",
      "Started chain.\n",
      "Finished chain.\n",
      "Started chain.\n",
      "Finished chain.\n",
      "Starting run for phenotype 3.\n",
      "Started chain.\n",
      "Finished chain.\n",
      "Started chain.\n",
      "Finished chain.\n"
     ]
    }
   ],
   "source": [
    "##############################\n",
    "## Run MCMC for phenotype 2 ##\n",
    "##############################\n",
    "cat(\"Starting run for phenotype 2.\\n\")\n",
    "\n",
    "# fit copula for draws already found for phenotype 1\n",
    "out <- fitCopula(drawsA, ll, ul)\n",
    "copula <- out$copula\n",
    "U <- out$U\n",
    "Z <- out$Z\n",
    "Y <- out$Y\n",
    "\n",
    "# precalibration all at once\n",
    "out1 <- preCalibration(10^xB, parIdx, xtarget[[2]], ytarget[[2]], npc, U, Z, copula, 'B')\n",
    "sfactor <- 0.05 #scaling factor\n",
    "out2 <- getMCMCPar(out1$prePar, out1$preDelta, p, sfactor, delta, nChains)\n",
    "Sigma <- out2$Sigma\n",
    "startPar <- out2$startPar\n",
    "\n",
    "drawsB <- lapply(1:nChains, function(i) ABCMCMC(10^xB, parIdx, ns, xtarget[[2]], ytarget[[2]], startPar[i,], Sigma, delta, U, Z, Y, copula, 'B', ll, ul))\n",
    "\n",
    "# put together\n",
    "drawsB <- do.call(\"rbind\", drawsB)\n",
    "pick <- !apply(drawsB, 1, function(rw) all(rw==0))\n",
    "drawsB <- drawsB[pick,]\n",
    "\n",
    "# filter\n",
    "pick <- apply(drawsB,1, function(u){out <- runModel(u, parIdx = parIdx, input = 10^xA, rInd = 'A');getMaxScore(xtarget[[1]], ytarget[[1]], out$xx, out$yy)}) <= delta\n",
    "drawsB <- drawsB[pick,]  \n",
    "\n",
    "##############################\n",
    "## Run MCMC for phenotype 3 ##\n",
    "##############################\n",
    "cat(\"Starting run for phenotype 3.\\n\")\n",
    "\n",
    "# fit copula for draws already found for phenotype 1,2\n",
    "out <- fitCopula(drawsB, ll, ul)\n",
    "copula <- out$copula\n",
    "U <- out$U\n",
    "Z <- out$Z\n",
    "Y <- out$Y\n",
    "\n",
    "# precalibration all at once\n",
    "out1 <- preCalibration(10^xC, parIdx, xtarget[[3]], ytarget[[3]], npc, U, Z, copula, 'C1')\n",
    "sfactor <- 0.05 #scaling factor\n",
    "out2 <- getMCMCPar(out1$prePar, out1$preDelta, p, sfactor, delta, nChains)\n",
    "Sigma <- out2$Sigma\n",
    "startPar <- out2$startPar\n",
    "\n",
    "drawsC1 <- lapply(1:nChains, function(i) ABCMCMC(10^xC, parIdx, ns, xtarget[[3]], ytarget[[3]], startPar[i,], Sigma, delta, U, Z, Y, copula, 'C1', ll, ul))\n",
    "\n",
    "# put together\n",
    "drawsC1 <- do.call(\"rbind\", drawsC1)\n",
    "pick <- !apply(drawsC1, 1, function(rw) all(rw==0))\n",
    "drawsC1 <- drawsC1[pick,]\n",
    "\n",
    "# filter\n",
    "pick1 <- apply(drawsC1,1, function(u){out <- runModel(u, parIdx = parIdx, input = 10^xA, rInd = 'A');getMaxScore(xtarget[[1]], ytarget[[1]], out$xx, out$yy)}) <= delta\n",
    "\n",
    "pick2 <- apply(drawsC1,1, function(u){out <- runModel(u, parIdx = parIdx, input = 10^xB, rInd = 'B');getMaxScore(xtarget[[2]], ytarget[[2]], out$xx, out$yy)}) <= delta\n",
    "\n",
    "drawsC1 <- drawsC1[pick1 & pick2,]\n",
    "\n",
    "draws <- drawsC1\n",
    "outFile <- sprintf('Draws-Phenotype123-Scale%d.RData', scale)\n",
    "save(draws, parNames, file=outFile)\n"
   ]
  },
  {
   "cell_type": "markdown",
   "id": "f37333df",
   "metadata": {},
   "source": [
    "We have now produced a set of parameters that reproduce the experimental data. We can simulate the ouput from the model for these parameter sets and compare the fit with the experimental data. "
   ]
  },
  {
   "cell_type": "code",
   "execution_count": 8,
   "id": "053ca765",
   "metadata": {},
   "outputs": [
    {
     "data": {
      "image/png": "[encoded data removed]",
      "text/plain": [
       "plot without title"
      ]
     },
     "metadata": {
      "image/png": {
       "height": 240,
       "width": 600
      }
     },
     "output_type": "display_data"
    }
   ],
   "source": [
    "options(repr.plot.width=10, repr.plot.height=4)\n",
    "\n",
    "outA <- apply(draws, 1, function(u){runModel(u, parIdx = parIdx, input = 10^xA, rInd = 'A')})\n",
    "outB <- apply(draws, 1, function(u){runModel(u, parIdx = parIdx, input = 10^xB, rInd = 'B')})\n",
    "outC <- apply(draws, 1, function(u){runModel(u, parIdx = parIdx, input = 10^xC, rInd = 'C1')})\n",
    "\n",
    "dfA <- melt(lapply(outA, as.data.frame), id=c(\"xx\", \"yy\"))\n",
    "dfB <- melt(lapply(outB, as.data.frame), id=c(\"xx\", \"yy\"))\n",
    "dfC <- melt(lapply(outC, as.data.frame), id=c(\"xx\", \"yy\"))\n",
    "\n",
    "dfExpA<- data.frame(x=xtarget[[1]], y=ytarget[[1]])\n",
    "dfExpB<- data.frame(x=xtarget[[2]], y=ytarget[[2]])\n",
    "dfExpC<- data.frame(x=xtarget[[3]], y=ytarget[[3]])\n",
    "\n",
    "g1 <- ggplot(dfA, aes(x=xx, y=yy, group=L1))+\n",
    "  geom_line(color=\"blue\")+\n",
    "  ylim(c(0,4.2))+\n",
    "  xlim(c(1,6))+\n",
    "  labs(y=ylabs[1], x=xlabs[1], title=\"Phenotype 1\")+\n",
    "  geom_point(data=dfExpA, aes(x=x, y=y), inherit.aes=FALSE)\n",
    "\n",
    "g2 <- ggplot(dfB, aes(x=xx, y=yy, group=L1))+\n",
    "  geom_line(color=\"blue\")+\n",
    "  ylim(c(0,1))+\n",
    "  xlim(c(0,7))+\n",
    "  labs(y=ylabs[2], x=xlabs[2], title=\"Phenotype 2\")+\n",
    "  geom_point(data=dfExpB, aes(x=x, y=y), inherit.aes=FALSE)\n",
    "\n",
    "g3 <- ggplot(dfC, aes(x=xx, y=yy, group=L1))+\n",
    "  geom_line(color=\"blue\")+\n",
    "  ylim(c(0,100))+\n",
    "  xlim(c(2,4))+\n",
    "  labs(y=ylabs[3], x=xlabs[3], title=\"Phenotype 3\")+\n",
    "  geom_point(data=dfExpC, aes(x=x, y=y), inherit.aes=FALSE)\n",
    "\n",
    "grid.arrange(g1, g2, g3, nrow = 1)\n",
    "\n",
    "\n"
   ]
  }
 ],
 "metadata": {
  "kernelspec": {
   "display_name": "R",
   "language": "R",
   "name": "ir"
  },
  "language_info": {
   "codemirror_mode": "r",
   "file_extension": ".r",
   "mimetype": "text/x-r-source",
   "name": "R",
   "pygments_lexer": "r",
   "version": "3.5.1"
  }
 },
 "nbformat": 4,
 "nbformat_minor": 5
}
